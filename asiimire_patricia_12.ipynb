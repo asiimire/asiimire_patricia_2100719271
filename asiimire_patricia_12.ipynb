{
  "cells": [
    {
      "cell_type": "markdown",
      "metadata": {
        "id": "view-in-github",
        "colab_type": "text"
      },
      "source": [
        "<a href=\"https://colab.research.google.com/github/asiimire/asiimire_patricia_2100719271/blob/main/asiimire_patricia_12.ipynb\" target=\"_parent\"><img src=\"https://colab.research.google.com/assets/colab-badge.svg\" alt=\"Open In Colab\"/></a>"
      ]
    },
    {
      "cell_type": "code",
      "source": [
        "from google.colab import drive\n",
        "drive.mount('/content/drive')"
      ],
      "metadata": {
        "colab": {
          "base_uri": "https://localhost:8080/"
        },
        "id": "RFtp-M2suaZ3",
        "outputId": "52e8c8cf-0302-4548-8989-cbcaf2b4fc0a"
      },
      "execution_count": 1,
      "outputs": [
        {
          "output_type": "stream",
          "name": "stdout",
          "text": [
            "Mounted at /content/drive\n"
          ]
        }
      ]
    },
    {
      "cell_type": "code",
      "execution_count": null,
      "metadata": {
        "id": "c4kFmMiUuClZ",
        "outputId": "eb926654-1e78-447a-a7d0-848f28b9fa10"
      },
      "outputs": [
        {
          "name": "stdout",
          "output_type": "stream",
          "text": [
            "     age  sex  cp  trestbps  chol  fbs  restecg  thalach  exang  oldpeak  \\\n",
            "0     63    1   3       145   233    1        0      150      0      2.3   \n",
            "1     37    1   2       130   250    0        1      187      0      3.5   \n",
            "2     41    0   1       130   204    0        0      172      0      1.4   \n",
            "3     56    1   1       120   236    0        1      178      0      0.8   \n",
            "4     57    0   0       120   354    0        1      163      1      0.6   \n",
            "..   ...  ...  ..       ...   ...  ...      ...      ...    ...      ...   \n",
            "298   57    0   0       140   241    0        1      123      1      0.2   \n",
            "299   45    1   3       110   264    0        1      132      0      1.2   \n",
            "300   68    1   0       144   193    1        1      141      0      3.4   \n",
            "301   57    1   0       130   131    0        1      115      1      1.2   \n",
            "302   57    0   1       130   236    0        0      174      0      0.0   \n",
            "\n",
            "     slope  ca  thal  target  \n",
            "0        0   0     1       1  \n",
            "1        0   0     2       1  \n",
            "2        2   0     2       1  \n",
            "3        2   0     2       1  \n",
            "4        2   0     2       1  \n",
            "..     ...  ..   ...     ...  \n",
            "298      1   0     3       0  \n",
            "299      1   0     3       0  \n",
            "300      1   2     3       0  \n",
            "301      1   1     3       0  \n",
            "302      1   1     2       0  \n",
            "\n",
            "[303 rows x 14 columns]\n"
          ]
        }
      ],
      "source": [
        "import pandas as pd\n",
        "\n",
        "data = pd.read_csv('heart.csv')\n",
        "print(data)"
      ]
    },
    {
      "cell_type": "code",
      "execution_count": null,
      "metadata": {
        "id": "wJn1T-_huCld",
        "outputId": "5d4f12cd-d780-4989-f866-97c7d4f8655f"
      },
      "outputs": [
        {
          "name": "stdout",
          "output_type": "stream",
          "text": [
            "selected_features: Index(['age', 'sex', 'cp', 'trestbps', 'chol', 'thalach', 'exang', 'oldpeak',\n",
            "       'slope', 'ca'],\n",
            "      dtype='object')\n"
          ]
        }
      ],
      "source": [
        "# Feature Engineering\n",
        "#select the top 10 features based on chi-squared test\n",
        "\n",
        "from hawkey import Selector\n",
        "from sklearn.feature_selection import SelectKBest, chi2\n",
        "\n",
        "x = data.drop('target', axis = 1)\n",
        "y = data['target']\n",
        "\n",
        "Selector = SelectKBest(chi2, k=10)\n",
        "x_new = Selector.fit_transform(x, y)\n",
        "selected_features = x.columns[Selector.get_support()]\n",
        "print(f\"selected_features: {selected_features}\")\n",
        "\n",
        "# feature scalling\n",
        "# normalisation\n"
      ]
    },
    {
      "cell_type": "code",
      "execution_count": null,
      "metadata": {
        "id": "8LtYaLLIuClf",
        "outputId": "3ca828df-afe7-4404-ea25-c98225875813"
      },
      "outputs": [
        {
          "name": "stdout",
          "output_type": "stream",
          "text": [
            "        age       sex        cp  trestbps      chol       fbs   restecg  \\\n",
            "0  0.952197  0.681005  1.973123  0.763956 -0.256334  2.394438 -1.005832   \n",
            "1 -1.915313  0.681005  1.002577 -0.092738  0.072199 -0.417635  0.898962   \n",
            "2 -1.474158 -1.468418  0.032031 -0.092738 -0.816773 -0.417635 -1.005832   \n",
            "3  0.180175  0.681005  0.032031 -0.663867 -0.198357 -0.417635  0.898962   \n",
            "4  0.290464 -1.468418 -0.938515 -0.663867  2.082050 -0.417635  0.898962   \n",
            "\n",
            "    thalach     exang   oldpeak     slope        ca      thal  \n",
            "0  0.015443 -0.696631  1.087338 -2.274579 -0.714429 -2.148873  \n",
            "1  1.633471 -0.696631  2.122573 -2.274579 -0.714429 -0.512922  \n",
            "2  0.977514 -0.696631  0.310912  0.976352 -0.714429 -0.512922  \n",
            "3  1.239897 -0.696631 -0.206705  0.976352 -0.714429 -0.512922  \n",
            "4  0.583939  1.435481 -0.379244  0.976352 -0.714429 -0.512922  \n"
          ]
        }
      ],
      "source": [
        "# feature scalling\n",
        "# normalisation\n",
        "\n",
        "from sklearn.preprocessing import StandardScaler\n",
        "from sklearn.preprocessing import MinMaxScaler\n",
        "\n",
        "# feature scaling\n",
        "# Assuming 'data' is your DataFrame and 'target' is the column you want to predict\n",
        "x = data.drop('target', axis=1)\n",
        "y = data['target']\n",
        "\n",
        "# Create a StandardScaler object\n",
        "scaler = StandardScaler()\n",
        "\n",
        "# Fit the scaler to the features and transform them\n",
        "x_scaled = scaler.fit_transform(x)\n",
        "\n",
        "# Convert the scaled features back to a DataFrame\n",
        "x_scaled_df = pd.DataFrame(x_scaled, columns=x.columns)\n",
        "\n",
        "print(x_scaled_df.head())\n"
      ]
    },
    {
      "cell_type": "code",
      "execution_count": null,
      "metadata": {
        "id": "aQWe3gpOuClg",
        "outputId": "915bb295-1933-4cd5-fe04-22e7f23e4cdf"
      },
      "outputs": [
        {
          "name": "stdout",
          "output_type": "stream",
          "text": [
            "        age  sex        cp  trestbps      chol  fbs  restecg   thalach  exang  \\\n",
            "0  0.708333  1.0  1.000000  0.481132  0.244292  1.0      0.0  0.603053    0.0   \n",
            "1  0.166667  1.0  0.666667  0.339623  0.283105  0.0      0.5  0.885496    0.0   \n",
            "2  0.250000  0.0  0.333333  0.339623  0.178082  0.0      0.0  0.770992    0.0   \n",
            "3  0.562500  1.0  0.333333  0.245283  0.251142  0.0      0.5  0.816794    0.0   \n",
            "4  0.583333  0.0  0.000000  0.245283  0.520548  0.0      0.5  0.702290    1.0   \n",
            "\n",
            "    oldpeak  slope   ca      thal  \n",
            "0  0.370968    0.0  0.0  0.333333  \n",
            "1  0.564516    0.0  0.0  0.666667  \n",
            "2  0.225806    1.0  0.0  0.666667  \n",
            "3  0.129032    1.0  0.0  0.666667  \n",
            "4  0.096774    1.0  0.0  0.666667  \n"
          ]
        }
      ],
      "source": [
        "# Normalisation\n",
        "\n",
        "from sklearn.preprocessing import MinMaxScaler\n",
        "\n",
        "# Assuming 'data' is your DataFrame and 'target' is the column you want to predict\n",
        "x = data.drop('target', axis=1)\n",
        "y = data['target']\n",
        "\n",
        "# Create a MinMaxScaler object\n",
        "normalizer = MinMaxScaler()\n",
        "\n",
        "# Fit the normalizer to the features and transform them\n",
        "x_normalized = normalizer.fit_transform(x)\n",
        "\n",
        "# Convert the normalized features back to a DataFrame\n",
        "x_normalized_df = pd.DataFrame(x_normalized, columns=x.columns)\n",
        "\n",
        "print(x_normalized_df.head())\n"
      ]
    }
  ],
  "metadata": {
    "kernelspec": {
      "display_name": "Python 3",
      "language": "python",
      "name": "python3"
    },
    "language_info": {
      "codemirror_mode": {
        "name": "ipython",
        "version": 3
      },
      "file_extension": ".py",
      "mimetype": "text/x-python",
      "name": "python",
      "nbconvert_exporter": "python",
      "pygments_lexer": "ipython3",
      "version": "3.12.3"
    },
    "colab": {
      "provenance": [],
      "include_colab_link": true
    }
  },
  "nbformat": 4,
  "nbformat_minor": 0
}