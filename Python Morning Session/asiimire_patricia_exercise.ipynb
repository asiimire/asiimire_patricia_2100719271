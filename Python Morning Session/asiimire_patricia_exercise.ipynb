{
 "cells": [
  {
   "cell_type": "markdown",
   "metadata": {},
   "source": [
    "Write a Pandas program to compare the elements of two Pandas series. \n",
    "Sample Series [4,65,436,3,9], [7,0,3,897,9]"
   ]
  },
  {
   "cell_type": "code",
   "execution_count": 6,
   "metadata": {},
   "outputs": [],
   "source": [
    "import pandas as pd"
   ]
  },
  {
   "cell_type": "code",
   "execution_count": 7,
   "metadata": {},
   "outputs": [
    {
     "name": "stdout",
     "output_type": "stream",
     "text": [
      "0    False\n",
      "1    False\n",
      "2    False\n",
      "3    False\n",
      "4     True\n",
      "dtype: bool\n"
     ]
    }
   ],
   "source": [
    "s1 = pd.Series([4,65,436,3,9])\n",
    "s2 = pd.Series([7,0,3,897,9])\n",
    "\n",
    "# Comparing two series using == operator\n",
    "comparison = s1 == s2\n",
    "# Print the result\n",
    "print(comparison)"
   ]
  },
  {
   "cell_type": "markdown",
   "metadata": {},
   "source": [
    "Write a Pandas program to add, subtract, multiply and divide two Pandas series. \n",
    "Sample Series: [2,4,6,8,14], [1,3,5,7,9]"
   ]
  },
  {
   "cell_type": "code",
   "execution_count": 8,
   "metadata": {},
   "outputs": [
    {
     "name": "stdout",
     "output_type": "stream",
     "text": [
      "Sum: 0     3\n",
      "1     7\n",
      "2    11\n",
      "3    15\n",
      "4    23\n",
      "dtype: int64\n",
      "Difference: 0    1\n",
      "1    1\n",
      "2    1\n",
      "3    1\n",
      "4    5\n",
      "dtype: int64\n",
      "Product: 0      2\n",
      "1     12\n",
      "2     30\n",
      "3     56\n",
      "4    126\n",
      "dtype: int64\n",
      "Division: 0    2.000000\n",
      "1    1.333333\n",
      "2    1.200000\n",
      "3    1.142857\n",
      "4    1.555556\n",
      "dtype: float64\n",
      "Safe Division (filling 0 for division by zero): 0    2.000000\n",
      "1    1.333333\n",
      "2    1.200000\n",
      "3    1.142857\n",
      "4    1.555556\n",
      "dtype: float64\n"
     ]
    }
   ],
   "source": [
    "s1 = pd.Series([2, 4, 6, 8, 14])\n",
    "s2 = pd.Series([1, 3, 5, 7, 9])\n",
    "\n",
    "# Add the two series\n",
    "sum_series = s1 + s2\n",
    "print(\"Sum:\", sum_series)\n",
    "\n",
    "# Subtract the two series\n",
    "difference_series = s1 - s2\n",
    "print(\"Difference:\", difference_series)\n",
    "\n",
    "# Multiply the two series (element-wise multiplication)\n",
    "product_series = s1 * s2\n",
    "print(\"Product:\", product_series)\n",
    "\n",
    "# Divide the two series (element-wise division with caution for division by zero)\n",
    "division_series = s1 / s2\n",
    "print(\"Division:\", division_series)\n",
    "\n",
    "# Handle division by zero using fill_value\n",
    "safe_division_series = s1.div(s2, fill_value=0)\n",
    "print(\"Safe Division (filling 0 for division by zero):\", safe_division_series)"
   ]
  },
  {
   "cell_type": "markdown",
   "metadata": {},
   "source": [
    "Write a Pandas program to convert a dictionary to a Pandas series. \n",
    "Sample dictionary: dictionary1 = {‘Josh’: 24, ‘Sam’: 36, ‘Peace’: 19, ‘Charles’: 65, ‘Tom’: 44}"
   ]
  },
  {
   "cell_type": "code",
   "execution_count": 9,
   "metadata": {},
   "outputs": [
    {
     "name": "stdout",
     "output_type": "stream",
     "text": [
      "Josh       24\n",
      "Sam        36\n",
      "Peace      19\n",
      "Charles    65\n",
      "Tom        44\n",
      "dtype: int64\n"
     ]
    }
   ],
   "source": [
    "dictionary1 = {'Josh': 24, 'Sam': 36, 'Peace': 19, 'Charles': 65, 'Tom': 44}\n",
    "\n",
    "# Convert dictionary to Series\n",
    "data_series = pd.Series(dictionary1)\n",
    "\n",
    "# Print the Series\n",
    "print(data_series)"
   ]
  },
  {
   "cell_type": "markdown",
   "metadata": {},
   "source": [
    "Write a Pandas program to convert a given series to an array.\n",
    "Sample series: [‘Love’, 800, ‘Joy’, 789.9, ‘Peace’, True]"
   ]
  },
  {
   "cell_type": "code",
   "execution_count": 10,
   "metadata": {},
   "outputs": [
    {
     "name": "stdout",
     "output_type": "stream",
     "text": [
      "['Love' 800 'Joy' 789.9 'Peace' True]\n"
     ]
    }
   ],
   "source": [
    "data_series = pd.Series(['Love', 800, 'Joy', 789.9, 'Peace', True])\n",
    "\n",
    "# Convert Series to NumPy array\n",
    "data_array = data_series.to_numpy()\n",
    "\n",
    "# Print the array\n",
    "print(data_array)"
   ]
  },
  {
   "cell_type": "markdown",
   "metadata": {},
   "source": [
    "Write a Pandas program to display the most frequent value in the given series and replace everything else as ‘Other’ in the series. (Use the ‘HomeTeamGoals’ column in the dataset provided)"
   ]
  },
  {
   "cell_type": "markdown",
   "metadata": {},
   "source": [
    "Write a Pandas program to read the given csv file."
   ]
  },
  {
   "cell_type": "code",
   "execution_count": 13,
   "metadata": {},
   "outputs": [],
   "source": [
    "df = pd.read_csv('AfricaCupofNationsMatches.csv')"
   ]
  },
  {
   "cell_type": "code",
   "execution_count": 14,
   "metadata": {},
   "outputs": [
    {
     "name": "stdout",
     "output_type": "stream",
     "text": [
      "0        1.0\n",
      "1      Other\n",
      "2      Other\n",
      "3      Other\n",
      "4        1.0\n",
      "       ...  \n",
      "617    Other\n",
      "618      1.0\n",
      "619    Other\n",
      "620    Other\n",
      "621    Other\n",
      "Name: HomeTeamGoals, Length: 622, dtype: object\n"
     ]
    }
   ],
   "source": [
    "home_team_goals_series = df['HomeTeamGoals']\n",
    "\n",
    "# Find the most frequent value\n",
    "most_frequent_goal = home_team_goals_series.mode()[0]\n",
    "\n",
    "# Replace other values with 'Other'\n",
    "modified_series = home_team_goals_series.replace(\n",
    "    to_replace=[val for val in home_team_goals_series if val != most_frequent_goal],\n",
    "    value='Other'\n",
    ")\n",
    "\n",
    "# Display the modified series (or perform further analysis)\n",
    "print(modified_series)"
   ]
  },
  {
   "cell_type": "markdown",
   "metadata": {},
   "source": [
    "Write a Pandas program to get the first 7 rows of your data frame."
   ]
  },
  {
   "cell_type": "code",
   "execution_count": 15,
   "metadata": {},
   "outputs": [
    {
     "name": "stdout",
     "output_type": "stream",
     "text": [
      "   Year      Date  Time    HomeTeam       AwayTeam  HomeTeamGoals  \\\n",
      "0  1957  10-Feb-57   NaN     Sudan           Egypt            1.0   \n",
      "1  1957  10-Feb-57   NaN  Ethiopia    South Africa            NaN   \n",
      "2  1957  16-Feb-57   NaN     Egypt        Ethiopia            4.0   \n",
      "3  1959  22-May-59   NaN      Egypt       Ethiopia            4.0   \n",
      "4  1959  25-May-59   NaN     Sudan        Ethiopia            1.0   \n",
      "5  1959  29-May-59   NaN      Egypt          Sudan            2.0   \n",
      "6  1962  14-Jan-62   NaN  Ethiopia         Tunisia            4.0   \n",
      "\n",
      "   AwayTeamGoals             Stage  \\\n",
      "0            2.0        Semifinals   \n",
      "1            NaN        Semifinals   \n",
      "2            0.0             Final   \n",
      "3            0.0  Final Tournament   \n",
      "4            0.0  Final Tournament   \n",
      "5            1.0  Final Tournament   \n",
      "6            2.0        Semifinals   \n",
      "\n",
      "                                SpecialWinConditions                 Stadium  \\\n",
      "0                                                NaN       Municipal Stadium   \n",
      "1  Ethiopia  wins due to disqualification of othe...                     NaN   \n",
      "2                                                NaN       Municipal Stadium   \n",
      "3                                                NaN   Prince Farouk Stadium   \n",
      "4                                                NaN   Prince Farouk Stadium   \n",
      "5                                                NaN   Prince Farouk Stadium   \n",
      "6                                                NaN  Hailé Sélassié Stadium   \n",
      "\n",
      "           City  Attendance  \n",
      "0      Khartoum     30000.0  \n",
      "1           NaN         NaN  \n",
      "2      Khartoum     30000.0  \n",
      "3         Cairo     30000.0  \n",
      "4         Cairo     20000.0  \n",
      "5         Cairo     30000.0  \n",
      "6   Addis Ababa     30000.0  \n"
     ]
    }
   ],
   "source": [
    "first_seven_rows = df.head(7)\n",
    "\n",
    "# Print the first 7 rows (optional)\n",
    "print(first_seven_rows)"
   ]
  },
  {
   "cell_type": "markdown",
   "metadata": {},
   "source": [
    "Write a Pandas program to select the ‘HomeTeam’, ‘AwayTeam’, ‘HomeTeamGoals’ and ‘AwayTeamGoals’ columns from your data frame."
   ]
  },
  {
   "cell_type": "code",
   "execution_count": 16,
   "metadata": {},
   "outputs": [
    {
     "name": "stdout",
     "output_type": "stream",
     "text": [
      "        HomeTeam       AwayTeam  HomeTeamGoals  AwayTeamGoals\n",
      "0         Sudan           Egypt            1.0            2.0\n",
      "1      Ethiopia    South Africa            NaN            NaN\n",
      "2         Egypt        Ethiopia            4.0            0.0\n",
      "3          Egypt       Ethiopia            4.0            0.0\n",
      "4         Sudan        Ethiopia            1.0            0.0\n",
      "..           ...            ...            ...            ...\n",
      "617  Madagascar         Tunisia            0.0            3.0\n",
      "618     Senegal         Tunisia            1.0            0.0\n",
      "619     Algeria         Nigeria            2.0            1.0\n",
      "620     Tunisia         Nigeria            0.0            1.0\n",
      "621     Senegal         Algeria            0.0            1.0\n",
      "\n",
      "[622 rows x 4 columns]\n"
     ]
    }
   ],
   "source": [
    "selected_columns = ['HomeTeam', 'AwayTeam', 'HomeTeamGoals', 'AwayTeamGoals']\n",
    "selected_df = df[selected_columns]\n",
    "\n",
    "# Print the selected columns (optional)\n",
    "print(selected_df)"
   ]
  },
  {
   "cell_type": "markdown",
   "metadata": {},
   "source": [
    "Write a Pandas program to select the rows where Egypt appears."
   ]
  },
  {
   "cell_type": "code",
   "execution_count": 17,
   "metadata": {},
   "outputs": [
    {
     "name": "stdout",
     "output_type": "stream",
     "text": [
      "     Year                         Date   Time  HomeTeam       AwayTeam  \\\n",
      "0    1957                     10-Feb-57    NaN   Sudan           Egypt   \n",
      "2    1957                     16-Feb-57    NaN   Egypt        Ethiopia   \n",
      "3    1959                     22-May-59    NaN    Egypt       Ethiopia   \n",
      "5    1959                     29-May-59    NaN    Egypt          Sudan   \n",
      "7    1962                     18-Jan-62    NaN    Egypt         Uganda   \n",
      "..    ...                           ...    ...      ...            ...   \n",
      "569  2017  5 February 2017 (2017-02-05)  20:00   Egypt        Cameroon   \n",
      "570  2019     21 June 2019 (2019-06-21)  22:00   Egypt        Zimbabwe   \n",
      "573  2019     26 June 2019 (2019-06-26)  22:00   Egypt        DR Congo   \n",
      "574  2019     30 June 2019 (2019-06-30)  21:00  Uganda           Egypt   \n",
      "609  2019      6 July 2019 (2019-07-06)  21:00   Egypt    South Africa   \n",
      "\n",
      "     HomeTeamGoals  AwayTeamGoals             Stage SpecialWinConditions  \\\n",
      "0              1.0            2.0        Semifinals                  NaN   \n",
      "2              4.0            0.0             Final                  NaN   \n",
      "3              4.0            0.0  Final Tournament                  NaN   \n",
      "5              2.0            1.0  Final Tournament                  NaN   \n",
      "7              2.0            1.0        Semifinals                  NaN   \n",
      "..             ...            ...               ...                  ...   \n",
      "569            1.0            2.0             Final                  NaN   \n",
      "570            1.0            0.0           Group A                  NaN   \n",
      "573            2.0            0.0           Group A                  NaN   \n",
      "574            0.0            2.0           Group A                  NaN   \n",
      "609            0.0            1.0       Round of 16                  NaN   \n",
      "\n",
      "                         Stadium          City  Attendance  \n",
      "0              Municipal Stadium      Khartoum     30000.0  \n",
      "2              Municipal Stadium      Khartoum     30000.0  \n",
      "3          Prince Farouk Stadium         Cairo     30000.0  \n",
      "5          Prince Farouk Stadium         Cairo     30000.0  \n",
      "7         Hailé Sélassié Stadium   Addis Ababa     30000.0  \n",
      "..                           ...           ...         ...  \n",
      "569            Stade de l'Amitié    Libreville         NaN  \n",
      "570  Cairo International Stadium         Cairo     73299.0  \n",
      "573  Cairo International Stadium         Cairo     74219.0  \n",
      "574  Cairo International Stadium         Cairo     74566.0  \n",
      "609  Cairo International Stadium         Cairo     75000.0  \n",
      "\n",
      "[95 rows x 12 columns]\n"
     ]
    }
   ],
   "source": [
    "egypt_rows = df[df['HomeTeam'].str.contains('Egypt', case=False) | df['AwayTeam'].str.contains('Egypt', case=False)]\n",
    "\n",
    "print(egypt_rows)"
   ]
  },
  {
   "cell_type": "markdown",
   "metadata": {},
   "source": [
    "Write a Pandas program to count the number of rows and columns of your data frame."
   ]
  },
  {
   "cell_type": "code",
   "execution_count": 18,
   "metadata": {},
   "outputs": [
    {
     "name": "stdout",
     "output_type": "stream",
     "text": [
      "Number of rows: 622\n",
      "Number of columns: 12\n"
     ]
    }
   ],
   "source": [
    "# Get the number of rows and columns using the shape attribute\n",
    "num_rows, num_cols = df.shape\n",
    "\n",
    "print(f\"Number of rows: {num_rows}\")\n",
    "print(f\"Number of columns: {num_cols}\")"
   ]
  },
  {
   "cell_type": "markdown",
   "metadata": {},
   "source": [
    "Write a Pandas program to select the rows where the ‘Attendance’ is missing."
   ]
  },
  {
   "cell_type": "code",
   "execution_count": 19,
   "metadata": {},
   "outputs": [
    {
     "name": "stdout",
     "output_type": "stream",
     "text": [
      "     Year                         Date   Time        HomeTeam       AwayTeam  \\\n",
      "1    1957                     10-Feb-57    NaN      Ethiopia    South Africa   \n",
      "8    1962                     20-Jan-62    NaN       Tunisia          Uganda   \n",
      "9    1962                     21-Jan-62    NaN      Ethiopia           Egypt   \n",
      "10   1963                     24-Nov-63    NaN         Ghana         Tunisia   \n",
      "11   1963                     26-Nov-63    NaN         Ghana        Ethiopia   \n",
      "..    ...                           ...    ...            ...            ...   \n",
      "565  2017  29 January 2017 (2017-01-29)  20:00         Egypt         Morocco   \n",
      "566  2017  1 February 2017 (2017-02-01)  20:00  Burkina Faso           Egypt   \n",
      "567  2017  2 February 2017 (2017-02-02)  20:00      Cameroon           Ghana   \n",
      "568  2017  4 February 2017 (2017-02-04)  20:00  Burkina Faso           Ghana   \n",
      "569  2017  5 February 2017 (2017-02-05)  20:00         Egypt        Cameroon   \n",
      "\n",
      "     HomeTeamGoals  AwayTeamGoals                 Stage  \\\n",
      "1              NaN            NaN            Semifinals   \n",
      "8              3.0            0.0     Third place match   \n",
      "9              4.0            2.0                 Final   \n",
      "10             1.0            1.0               Group A   \n",
      "11             2.0            0.0               Group A   \n",
      "..             ...            ...                   ...   \n",
      "565            1.0            0.0        Quarter-finals   \n",
      "566            1.0            1.0           Semi-finals   \n",
      "567            2.0            0.0           Semi-finals   \n",
      "568            1.0            0.0  Third place play-off   \n",
      "569            1.0            2.0                 Final   \n",
      "\n",
      "                                  SpecialWinConditions  \\\n",
      "1    Ethiopia  wins due to disqualification of othe...   \n",
      "8                                                  NaN   \n",
      "9                                win after extra time    \n",
      "10                                                 NaN   \n",
      "11                                                 NaN   \n",
      "..                                                 ...   \n",
      "565                                                NaN   \n",
      "566                        Egypt win on Penalities 3-4   \n",
      "567                                                NaN   \n",
      "568                                                NaN   \n",
      "569                                                NaN   \n",
      "\n",
      "                    Stadium          City  Attendance  \n",
      "1                       NaN           NaN         NaN  \n",
      "8    Hailé Sélassié Stadium   Addis Ababa         NaN  \n",
      "9    Hailé Sélassié Stadium   Addis Ababa         NaN  \n",
      "10     Accra Sports Stadium         Accra         NaN  \n",
      "11     Accra Sports Stadium         Accra         NaN  \n",
      "..                      ...           ...         ...  \n",
      "565    Stade de Port-Gentil   Port-Gentil         NaN  \n",
      "566       Stade de l'Amitié    Libreville         NaN  \n",
      "567    Stade de Franceville   Franceville         NaN  \n",
      "568    Stade de Port-Gentil   Port-Gentil         NaN  \n",
      "569       Stade de l'Amitié    Libreville         NaN  \n",
      "\n",
      "[100 rows x 12 columns]\n"
     ]
    }
   ],
   "source": [
    "# Select rows where 'Attendance' is missing using isnull()\n",
    "missing_attendance = df[df['Attendance'].isna()]\n",
    "print(missing_attendance)"
   ]
  },
  {
   "cell_type": "markdown",
   "metadata": {},
   "source": [
    "Write a Pandas program to select the rows where the ‘HomeTeamGoals’ are between 3 and 6 inclusive."
   ]
  },
  {
   "cell_type": "code",
   "execution_count": 20,
   "metadata": {},
   "outputs": [
    {
     "name": "stdout",
     "output_type": "stream",
     "text": [
      "     Year                         Date   Time    HomeTeam     AwayTeam  \\\n",
      "2    1957                     16-Feb-57    NaN     Egypt      Ethiopia   \n",
      "3    1959                     22-May-59    NaN      Egypt     Ethiopia   \n",
      "6    1962                     14-Jan-62    NaN  Ethiopia       Tunisia   \n",
      "8    1962                     20-Jan-62    NaN   Tunisia        Uganda   \n",
      "9    1962                     21-Jan-62    NaN  Ethiopia         Egypt   \n",
      "..    ...                           ...    ...        ...          ...   \n",
      "553  2017  20 January 2017 (2017-01-20)  20:00   Morocco          Togo   \n",
      "585  2019     27 June 2019 (2019-06-27)  22:00     Kenya      Tanzania   \n",
      "595  2019     24 June 2019 (2019-06-24)  22:00      Mali    Mauritania   \n",
      "608  2019      6 July 2019 (2019-07-06)  18:00   Nigeria      Cameroon   \n",
      "611  2019      7 July 2019 (2019-07-07)  21:00   Algeria        Guinea   \n",
      "\n",
      "     HomeTeamGoals  AwayTeamGoals              Stage    SpecialWinConditions  \\\n",
      "2              4.0            0.0              Final                     NaN   \n",
      "3              4.0            0.0   Final Tournament                     NaN   \n",
      "6              4.0            2.0         Semifinals                     NaN   \n",
      "8              3.0            0.0  Third place match                     NaN   \n",
      "9              4.0            2.0              Final   win after extra time    \n",
      "..             ...            ...                ...                     ...   \n",
      "553            3.0            1.0            Group C                     NaN   \n",
      "585            3.0            2.0            Group C                     NaN   \n",
      "595            4.0            1.0            Group E                     NaN   \n",
      "608            3.0            2.0        Round of 16                     NaN   \n",
      "611            3.0            0.0        Round of 16                     NaN   \n",
      "\n",
      "                    Stadium          City  Attendance  \n",
      "2         Municipal Stadium      Khartoum     30000.0  \n",
      "3     Prince Farouk Stadium         Cairo     30000.0  \n",
      "6    Hailé Sélassié Stadium   Addis Ababa     30000.0  \n",
      "8    Hailé Sélassié Stadium   Addis Ababa         NaN  \n",
      "9    Hailé Sélassié Stadium   Addis Ababa         NaN  \n",
      "..                      ...           ...         ...  \n",
      "553            Stade d'Oyem          Oyem         NaN  \n",
      "585         30 June Stadium         Cairo      7233.0  \n",
      "595            Suez Stadium          Suez      6202.0  \n",
      "608      Alexandria Stadium    Alexandria     10000.0  \n",
      "611         30 June Stadium         Cairo      8205.0  \n",
      "\n",
      "[138 rows x 12 columns]\n"
     ]
    }
   ],
   "source": [
    "between_goals = df[(df['HomeTeamGoals'] >= 3) & (df['HomeTeamGoals'] <= 6)]\n",
    "\n",
    "print(between_goals)"
   ]
  },
  {
   "cell_type": "markdown",
   "metadata": {},
   "source": [
    "Write a Pandas program to change the “AwayTeamGoals” in the 3rd row to 10."
   ]
  },
  {
   "cell_type": "code",
   "execution_count": 21,
   "metadata": {},
   "outputs": [
    {
     "name": "stdout",
     "output_type": "stream",
     "text": [
      "     Year                      Date   Time      HomeTeam       AwayTeam  \\\n",
      "0    1957                  10-Feb-57    NaN       Sudan           Egypt   \n",
      "1    1957                  10-Feb-57    NaN    Ethiopia    South Africa   \n",
      "2    1957                  16-Feb-57    NaN       Egypt        Ethiopia   \n",
      "3    1959                  22-May-59    NaN        Egypt       Ethiopia   \n",
      "4    1959                  25-May-59    NaN       Sudan        Ethiopia   \n",
      "..    ...                        ...    ...          ...            ...   \n",
      "617  2019  11 July 2019 (2019-07-11)  21:00  Madagascar         Tunisia   \n",
      "618  2019  14 July 2019 (2019-07-14)  18:00     Senegal         Tunisia   \n",
      "619  2019  14 July 2019 (2019-07-14)  21:00     Algeria         Nigeria   \n",
      "620  2019  17 July 2019 (2019-07-17)  21:00     Tunisia         Nigeria   \n",
      "621  2019  19 July 2019 (2019-07-19)  21:00     Senegal         Algeria   \n",
      "\n",
      "     HomeTeamGoals  AwayTeamGoals                 Stage  \\\n",
      "0              1.0            2.0            Semifinals   \n",
      "1              NaN            NaN            Semifinals   \n",
      "2              4.0           10.0                 Final   \n",
      "3              4.0            0.0      Final Tournament   \n",
      "4              1.0            0.0      Final Tournament   \n",
      "..             ...            ...                   ...   \n",
      "617            0.0            3.0        Quarter-finals   \n",
      "618            1.0            0.0           Semi-finals   \n",
      "619            2.0            1.0           Semi-finals   \n",
      "620            0.0            1.0  Third place play-off   \n",
      "621            0.0            1.0                 Final   \n",
      "\n",
      "                                  SpecialWinConditions  \\\n",
      "0                                                  NaN   \n",
      "1    Ethiopia  wins due to disqualification of othe...   \n",
      "2                                                  NaN   \n",
      "3                                                  NaN   \n",
      "4                                                  NaN   \n",
      "..                                                 ...   \n",
      "617                                                NaN   \n",
      "618                              win after extra time    \n",
      "619                                                NaN   \n",
      "620                                                NaN   \n",
      "621                                                NaN   \n",
      "\n",
      "                         Stadium       City  Attendance  \n",
      "0              Municipal Stadium   Khartoum     30000.0  \n",
      "1                            NaN        NaN         NaN  \n",
      "2              Municipal Stadium   Khartoum     30000.0  \n",
      "3          Prince Farouk Stadium      Cairo     30000.0  \n",
      "4          Prince Farouk Stadium      Cairo     20000.0  \n",
      "..                           ...        ...         ...  \n",
      "617             Al Salam Stadium      Cairo      7568.0  \n",
      "618              30 June Stadium      Cairo      9143.0  \n",
      "619  Cairo International Stadium      Cairo     49775.0  \n",
      "620             Al Salam Stadium      Cairo      6340.0  \n",
      "621  Cairo International Stadium      Cairo     75000.0  \n",
      "\n",
      "[622 rows x 12 columns]\n"
     ]
    }
   ],
   "source": [
    "df.iloc[2, df.columns.get_loc('AwayTeamGoals')] = 10\n",
    "\n",
    "print(df)"
   ]
  },
  {
   "cell_type": "markdown",
   "metadata": {},
   "source": [
    "Write a Pandas program to sort the DataFrame first by ‘HomeTeam’ in ascending order, then by ‘HomeTeamScores’ in descending order."
   ]
  },
  {
   "cell_type": "code",
   "execution_count": 22,
   "metadata": {},
   "outputs": [
    {
     "name": "stdout",
     "output_type": "stream",
     "text": [
      "     Year                         Date           Time    HomeTeam  \\\n",
      "205  1990                      2-Mar-90            NaN   Algeria    \n",
      "29   1968                     14-Jan-68            NaN   Algeria    \n",
      "135  1980                     16-Mar-80            NaN   Algeria    \n",
      "164  1984                      5-Mar-84            NaN   Algeria    \n",
      "171  1984                     17-Mar-84            NaN   Algeria    \n",
      "..    ...                           ...            ...        ...   \n",
      "521  2012                     12-Feb-12  20:30[note 1]    Zambia    \n",
      "549  2017  23 January 2017 (2017-01-23)          20:00  Zimbabwe    \n",
      "398  2004                     25-Jan-04          16:30  Zimbabwe    \n",
      "437  2006                     23-Jan-06          20:00  Zimbabwe    \n",
      "575  2019     30 June 2019 (2019-06-30)          21:00  Zimbabwe    \n",
      "\n",
      "         AwayTeam  HomeTeamGoals  AwayTeamGoals              Stage  \\\n",
      "205       Nigeria            5.0            1.0            Group A   \n",
      "29         Uganda            4.0            0.0            Group A   \n",
      "135        Guinea            3.0            2.0            Group B   \n",
      "164        Malawi            3.0            0.0            Group B   \n",
      "171         Egypt            3.0            1.0  Third place match   \n",
      "..            ...            ...            ...                ...   \n",
      "521   Ivory Coast            0.0            0.0              Final   \n",
      "549       Tunisia            2.0            4.0            Group B   \n",
      "398         Egypt            1.0            2.0            Group C   \n",
      "437       Senegal            0.0            2.0            Group D   \n",
      "575      DR Congo            0.0            4.0            Group A   \n",
      "\n",
      "              SpecialWinConditions                       Stadium  \\\n",
      "205                            NaN          Stade 5 Juillet 1962   \n",
      "29                             NaN        Hailé Sélassié Stadium   \n",
      "135                            NaN               Liberty Stadium   \n",
      "164                            NaN                  Stade Bouaké   \n",
      "171                            NaN  Stade Félix Houphouët-Boigny   \n",
      "..                             ...                           ...   \n",
      "521  Zambia  win on Penalities 8-7              Stade d'Angondjé   \n",
      "549                            NaN             Stade de l'Amitié   \n",
      "398                            NaN          Stade Taïeb El Mhiri   \n",
      "437                            NaN             Port Said Stadium   \n",
      "575                            NaN               30 June Stadium   \n",
      "\n",
      "             City  Attendance  \n",
      "205       Algiers     85000.0  \n",
      "29    Addis Ababa     25000.0  \n",
      "135        Ibadan     20000.0  \n",
      "164        Bouaké     10000.0  \n",
      "171       Abidjan       500.0  \n",
      "..            ...         ...  \n",
      "521    Libreville     40000.0  \n",
      "549    Libreville         NaN  \n",
      "398          Sfax     22000.0  \n",
      "437     Port Said     15000.0  \n",
      "575         Cairo      4364.0  \n",
      "\n",
      "[622 rows x 12 columns]\n"
     ]
    }
   ],
   "source": [
    "sorted_df = df.sort_values(by=['HomeTeam', 'HomeTeamGoals'], ascending=[True, False])\n",
    "\n",
    "print(sorted_df)"
   ]
  },
  {
   "cell_type": "markdown",
   "metadata": {},
   "source": [
    "Write a Pandas program to get list from DataFrame column headers."
   ]
  },
  {
   "cell_type": "code",
   "execution_count": 23,
   "metadata": {},
   "outputs": [
    {
     "name": "stdout",
     "output_type": "stream",
     "text": [
      "['Year', 'Date ', 'Time ', 'HomeTeam', 'AwayTeam', 'HomeTeamGoals', 'AwayTeamGoals', 'Stage', 'SpecialWinConditions', 'Stadium', 'City', 'Attendance']\n"
     ]
    }
   ],
   "source": [
    "column_list = df.columns.tolist()\n",
    "\n",
    "print(column_list)"
   ]
  },
  {
   "cell_type": "markdown",
   "metadata": {},
   "source": [
    "Write a Pandas program to append a column of your choice to your DataFrame."
   ]
  },
  {
   "cell_type": "code",
   "execution_count": 24,
   "metadata": {},
   "outputs": [
    {
     "name": "stdout",
     "output_type": "stream",
     "text": [
      "     Year                      Date   Time      HomeTeam       AwayTeam  \\\n",
      "0    1957                  10-Feb-57    NaN       Sudan           Egypt   \n",
      "1    1957                  10-Feb-57    NaN    Ethiopia    South Africa   \n",
      "2    1957                  16-Feb-57    NaN       Egypt        Ethiopia   \n",
      "3    1959                  22-May-59    NaN        Egypt       Ethiopia   \n",
      "4    1959                  25-May-59    NaN       Sudan        Ethiopia   \n",
      "..    ...                        ...    ...          ...            ...   \n",
      "617  2019  11 July 2019 (2019-07-11)  21:00  Madagascar         Tunisia   \n",
      "618  2019  14 July 2019 (2019-07-14)  18:00     Senegal         Tunisia   \n",
      "619  2019  14 July 2019 (2019-07-14)  21:00     Algeria         Nigeria   \n",
      "620  2019  17 July 2019 (2019-07-17)  21:00     Tunisia         Nigeria   \n",
      "621  2019  19 July 2019 (2019-07-19)  21:00     Senegal         Algeria   \n",
      "\n",
      "     HomeTeamGoals  AwayTeamGoals                 Stage  \\\n",
      "0              1.0            2.0            Semifinals   \n",
      "1              NaN            NaN            Semifinals   \n",
      "2              4.0           10.0                 Final   \n",
      "3              4.0            0.0      Final Tournament   \n",
      "4              1.0            0.0      Final Tournament   \n",
      "..             ...            ...                   ...   \n",
      "617            0.0            3.0        Quarter-finals   \n",
      "618            1.0            0.0           Semi-finals   \n",
      "619            2.0            1.0           Semi-finals   \n",
      "620            0.0            1.0  Third place play-off   \n",
      "621            0.0            1.0                 Final   \n",
      "\n",
      "                                  SpecialWinConditions  \\\n",
      "0                                                  NaN   \n",
      "1    Ethiopia  wins due to disqualification of othe...   \n",
      "2                                                  NaN   \n",
      "3                                                  NaN   \n",
      "4                                                  NaN   \n",
      "..                                                 ...   \n",
      "617                                                NaN   \n",
      "618                              win after extra time    \n",
      "619                                                NaN   \n",
      "620                                                NaN   \n",
      "621                                                NaN   \n",
      "\n",
      "                         Stadium       City  Attendance Result  \n",
      "0              Municipal Stadium   Khartoum     30000.0   Loss  \n",
      "1                            NaN        NaN         NaN   Loss  \n",
      "2              Municipal Stadium   Khartoum     30000.0   Loss  \n",
      "3          Prince Farouk Stadium      Cairo     30000.0    Win  \n",
      "4          Prince Farouk Stadium      Cairo     20000.0    Win  \n",
      "..                           ...        ...         ...    ...  \n",
      "617             Al Salam Stadium      Cairo      7568.0   Loss  \n",
      "618              30 June Stadium      Cairo      9143.0    Win  \n",
      "619  Cairo International Stadium      Cairo     49775.0    Win  \n",
      "620             Al Salam Stadium      Cairo      6340.0   Loss  \n",
      "621  Cairo International Stadium      Cairo     75000.0   Loss  \n",
      "\n",
      "[622 rows x 13 columns]\n"
     ]
    }
   ],
   "source": [
    "new_column_name = 'Result'\n",
    "new_column_data = ['Win' if score1 > score2 else 'Loss' for score1, score2 in zip(df['HomeTeamGoals'], df['AwayTeamGoals'])]\n",
    "\n",
    "# Assign the new column to the DataFrame\n",
    "df[new_column_name] = new_column_data\n",
    "\n",
    "print(df)"
   ]
  },
  {
   "cell_type": "markdown",
   "metadata": {},
   "source": [
    "Write a Pandas program to add 2 rows to your DataFrame."
   ]
  },
  {
   "cell_type": "code",
   "execution_count": 38,
   "metadata": {},
   "outputs": [
    {
     "name": "stdout",
     "output_type": "stream",
     "text": [
      "     Country  AwayTeam  HomeTeam  HomeTeamGoals  AwayTeamGoals\n",
      "0    Nigeria     Ghana       NaN            NaN            NaN\n",
      "1      Egypt   Senegal       NaN            NaN            NaN\n",
      "2      China   Nigeria       NaN            NaN            NaN\n",
      "3  S. Africa  Zimbabwe       NaN            NaN            NaN\n",
      "4        NaN  NewTeam2  NewTeam1            7.0            3.0\n",
      "5        NaN  NewTeam4  NewTeam3            1.0            5.0\n"
     ]
    }
   ],
   "source": [
    "new_rows = [\n",
    "    {'HomeTeam': 'NewTeam1', 'AwayTeam': 'NewTeam2', 'HomeTeamGoals': 7, 'AwayTeamGoals': 3},\n",
    "    {'HomeTeam': 'NewTeam3', 'AwayTeam': 'NewTeam4', 'HomeTeamGoals': 1, 'AwayTeamGoals': 5}\n",
    "]\n",
    "\n",
    "# Append the new rows to the DataFrame using concat\n",
    "df = pd.concat([df, pd.DataFrame(new_rows)], ignore_index=True)\n",
    "\n",
    "# Print the DataFrame with the added rows\n",
    "print(df)"
   ]
  },
  {
   "cell_type": "markdown",
   "metadata": {},
   "source": [
    "Write a Pandas program to change the country ‘Uganda’ to ‘China’ in the ‘AwayTeam’ column of the DataFrame."
   ]
  },
  {
   "cell_type": "code",
   "execution_count": 39,
   "metadata": {},
   "outputs": [
    {
     "name": "stdout",
     "output_type": "stream",
     "text": [
      "     Country  AwayTeam\n",
      "0    Nigeria     Ghana\n",
      "1      Egypt   Senegal\n",
      "2      China   Nigeria\n",
      "3  S. Africa  Zimbabwe\n"
     ]
    }
   ],
   "source": [
    "df = pd.DataFrame({\n",
    "    'Country': ['Nigeria', 'Egypt', 'Uganda', 'S. Africa'],\n",
    "    'AwayTeam': ['Ghana', 'Senegal', 'Nigeria', 'Zimbabwe']\n",
    "})\n",
    "\n",
    "# Replace 'Uganda' with 'China' in the 'Country' column\n",
    "df['Country'] = df['Country'].replace('Uganda', 'China')\n",
    "\n",
    "print(df)"
   ]
  },
  {
   "cell_type": "markdown",
   "metadata": {},
   "source": [
    "Write a Pandas program to reset index in your DataFrame."
   ]
  },
  {
   "cell_type": "code",
   "execution_count": 41,
   "metadata": {},
   "outputs": [
    {
     "name": "stdout",
     "output_type": "stream",
     "text": [
      "     Country  AwayTeam\n",
      "0    Nigeria     Ghana\n",
      "1      Egypt   Senegal\n",
      "2     Uganda   Nigeria\n",
      "3  S. Africa  Zimbabwe\n"
     ]
    }
   ],
   "source": [
    "\n",
    "df = pd.DataFrame({\n",
    "    'Country': ['Nigeria', 'Egypt', 'Uganda', 'S. Africa'],\n",
    "    'AwayTeam': ['Ghana', 'Senegal', 'Nigeria', 'Zimbabwe']\n",
    "})\n",
    "\n",
    "# Reset the index\n",
    "df_reset = df.reset_index(drop=True)\n",
    "\n",
    "print(df_reset)\n"
   ]
  },
  {
   "cell_type": "markdown",
   "metadata": {},
   "source": [
    "Write a Pandas program to check whether the ‘Stadium’ column is present in your DataFrame or not."
   ]
  },
  {
   "cell_type": "code",
   "execution_count": 42,
   "metadata": {},
   "outputs": [
    {
     "name": "stdout",
     "output_type": "stream",
     "text": [
      "'Stadium' column is not present in the DataFrame.\n"
     ]
    }
   ],
   "source": [
    "\n",
    "df = pd.DataFrame({\n",
    "    'Country': ['Nigeria', 'Egypt', 'Uganda', 'S. Africa'],\n",
    "    'AwayTeam': ['Ghana', 'Senegal', 'Nigeria', 'Zimbabwe']\n",
    "})\n",
    "\n",
    "# Check if 'Stadium' column is present\n",
    "if 'Stadium' in df.columns:\n",
    "    print(\"'Stadium' column is present in the DataFrame.\")\n",
    "else:\n",
    "    print(\"'Stadium' column is not present in the DataFrame.\")\n"
   ]
  },
  {
   "cell_type": "markdown",
   "metadata": {},
   "source": [
    "Write a Pandas program to convert the datatype of the ‘AwayTeamGoals’. (int to float)"
   ]
  },
  {
   "cell_type": "code",
   "execution_count": 43,
   "metadata": {},
   "outputs": [
    {
     "name": "stdout",
     "output_type": "stream",
     "text": [
      "     Country  AwayTeam  AwayTeamGoals\n",
      "0    Nigeria     Ghana            1.0\n",
      "1      Egypt   Senegal            2.0\n",
      "2     Uganda   Nigeria            0.0\n",
      "3  S. Africa  Zimbabwe            3.0\n"
     ]
    }
   ],
   "source": [
    "\n",
    "df = pd.DataFrame({\n",
    "    'Country': ['Nigeria', 'Egypt', 'Uganda', 'S. Africa'],\n",
    "    'AwayTeam': ['Ghana', 'Senegal', 'Nigeria', 'Zimbabwe'],\n",
    "    'AwayTeamGoals': [1, 2, 0, 3]\n",
    "})\n",
    "\n",
    "# Convert 'AwayTeamGoals' from int to float\n",
    "df['AwayTeamGoals'] = df['AwayTeamGoals'].astype(float)\n",
    "\n",
    "print(df)\n"
   ]
  },
  {
   "cell_type": "markdown",
   "metadata": {},
   "source": [
    "Write a Pandas program to remove the last 10 rows from your DataFrame."
   ]
  },
  {
   "cell_type": "code",
   "execution_count": 46,
   "metadata": {},
   "outputs": [
    {
     "name": "stdout",
     "output_type": "stream",
     "text": [
      "   Country AwayTeam  AwayTeamGoals\n",
      "0  Nigeria    Ghana              1\n",
      "1    Egypt  Senegal              2\n"
     ]
    }
   ],
   "source": [
    "df = pd.DataFrame({\n",
    "    'Country': ['Nigeria', 'Egypt', 'Uganda', 'S. Africa', 'Ghana', 'Senegal', 'Nigeria', 'Zimbabwe', 'Kenya', 'Algeria', 'Morocco', 'Cameroon'],\n",
    "    'AwayTeam': ['Ghana', 'Senegal', 'Nigeria', 'Zimbabwe', 'Egypt', 'Uganda', 'S. Africa', 'Ghana', 'Senegal', 'Nigeria', 'Zimbabwe', 'Kenya'],\n",
    "    'AwayTeamGoals': [1, 2, 0, 3, 2, 0, 3, 1, 2, 0, 3, 1]\n",
    "})\n",
    "\n",
    "# Remove the last 10 rows\n",
    "df_trimmed = df[:-10]\n",
    "\n",
    "print(df_trimmed)"
   ]
  },
  {
   "cell_type": "markdown",
   "metadata": {},
   "source": [
    "Write a Pandas program to iterate over rows in your DataFrame."
   ]
  },
  {
   "cell_type": "code",
   "execution_count": 47,
   "metadata": {},
   "outputs": [
    {
     "name": "stdout",
     "output_type": "stream",
     "text": [
      "Index: 0\n",
      "Country: Nigeria, AwayTeam: Ghana, AwayTeamGoals: 1\n",
      "---\n",
      "Index: 1\n",
      "Country: Egypt, AwayTeam: Senegal, AwayTeamGoals: 2\n",
      "---\n",
      "Index: 2\n",
      "Country: Uganda, AwayTeam: Nigeria, AwayTeamGoals: 0\n",
      "---\n",
      "Index: 3\n",
      "Country: S. Africa, AwayTeam: Zimbabwe, AwayTeamGoals: 3\n",
      "---\n"
     ]
    }
   ],
   "source": [
    "df = pd.DataFrame({\n",
    "    'Country': ['Nigeria', 'Egypt', 'Uganda', 'S. Africa'],\n",
    "    'AwayTeam': ['Ghana', 'Senegal', 'Nigeria', 'Zimbabwe'],\n",
    "    'AwayTeamGoals': [1, 2, 0, 3]\n",
    "})\n",
    "\n",
    "# Iterate over rows using iterrows()\n",
    "for index, row in df.iterrows():\n",
    "    print(f\"Index: {index}\")\n",
    "    print(f\"Country: {row['Country']}, AwayTeam: {row['AwayTeam']}, AwayTeamGoals: {row['AwayTeamGoals']}\")\n",
    "    print(\"---\")"
   ]
  },
  {
   "cell_type": "markdown",
   "metadata": {},
   "source": [
    "Write a Pandas program to change the order of your DataFrame columns."
   ]
  },
  {
   "cell_type": "code",
   "execution_count": 48,
   "metadata": {},
   "outputs": [
    {
     "name": "stdout",
     "output_type": "stream",
     "text": [
      "        Country  GoalsScored  AwayTeam\n",
      "0       Nigeria            2     Ghana\n",
      "1         Egypt            1   Senegal\n",
      "2        Uganda            0   Nigeria\n",
      "3  South Africa            3  Zimbabwe\n"
     ]
    }
   ],
   "source": [
    "df = pd.DataFrame({'Country': ['Nigeria', 'Egypt', 'Uganda', 'South Africa'],\n",
    "                   'AwayTeam': ['Ghana', 'Senegal', 'Nigeria', 'Zimbabwe'],\n",
    "                   'GoalsScored': [2, 1, 0, 3]})\n",
    "\n",
    "# Reorder columns using .reindex()\n",
    "df = df.reindex(columns= ['Country', 'GoalsScored', 'AwayTeam'])\n",
    "\n",
    "# Print the DataFrame with reordered columns\n",
    "print(df)"
   ]
  },
  {
   "cell_type": "markdown",
   "metadata": {},
   "source": [
    "Write a Pandas program to delete DataFrame row(s) whose value is 0 in the ‘HomeTeamGoals’ columns."
   ]
  },
  {
   "cell_type": "code",
   "execution_count": 49,
   "metadata": {},
   "outputs": [
    {
     "name": "stdout",
     "output_type": "stream",
     "text": [
      "        Country  HomeTeamGoals  AwayTeamGoals\n",
      "0       Nigeria              2              1\n",
      "2        Uganda              1              0\n",
      "3  South Africa              3              2\n"
     ]
    }
   ],
   "source": [
    "df = pd.DataFrame({'Country': ['Nigeria', 'Egypt', 'Uganda', 'South Africa'],\n",
    "                   'HomeTeamGoals': [2, 0, 1, 3],\n",
    "                   'AwayTeamGoals': [1, 4, 0, 2]})\n",
    "\n",
    "# Drop rows where HomeTeamGoals is 0\n",
    "df = df.query('HomeTeamGoals > 0')  # Using query for readability (alternative: df[df['HomeTeamGoals'] > 0])\n",
    "\n",
    "# Print the DataFrame after dropping rows\n",
    "print(df)"
   ]
  },
  {
   "cell_type": "code",
   "execution_count": null,
   "metadata": {},
   "outputs": [],
   "source": []
  }
 ],
 "metadata": {
  "kernelspec": {
   "display_name": "Python 3 (ipykernel)",
   "language": "python",
   "name": "python3"
  },
  "language_info": {
   "codemirror_mode": {
    "name": "ipython",
    "version": 3
   },
   "file_extension": ".py",
   "mimetype": "text/x-python",
   "name": "python",
   "nbconvert_exporter": "python",
   "pygments_lexer": "ipython3",
   "version": "3.12.2"
  }
 },
 "nbformat": 4,
 "nbformat_minor": 4
}
