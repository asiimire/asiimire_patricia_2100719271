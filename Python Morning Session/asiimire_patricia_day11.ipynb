{
 "cells": [
  {
   "cell_type": "code",
   "execution_count": null,
   "metadata": {},
   "outputs": [],
   "source": [
    "#machine learning\n",
    "#Types of machine learning\n",
    "#supervised learning\n",
    "#unsupervised learning\n",
    "#Reinforcement learning\n",
    "#Data preprocessing\n",
    "#Data cleaning\n",
    "#Steps\n",
    "#check for\n",
    "#1. Duplicates,wrong format,empty cells,missing data\n",
    "#Age 23,230,1.33,1.44,150,1.50,wrong format,1/7/2024,2/7/2024,372024,4/7/2024,Nan,6/7/2024,Age,BSE KNN of age in BSE, 23,20,12,19,41\n",
    "#Handling missing data,remove/delete,imputation,mean,median ,mode,use forward/backward filling,KNN or Regression\n",
    "#Exploratory data analysis\n",
    "#Steps\n",
    "#DEscriptive statistics\n",
    "#Measure of Central Tendency,Mean, median, mode\n",
    "#Measure of spread:Range,variance,standard deviation,iterquartile range\n",
    "#Data visualization, Histogram for Distribution of a single variable, Box plots for identifying outliers\n",
    "#Scatter plot: examining relationships between two variables\n",
    "#Heatmap-Visualization correlation matrices\n",
    "#Tools for data visualization\n",
    "#Matplotlib: line.bar,scatter and histogram,\n",
    "# #Seaborn:Themes,color palates\n",
    "# #Plotly,bokeh"
   ]
  },
  {
   "cell_type": "code",
   "execution_count": null,
   "metadata": {},
   "outputs": [],
   "source": [
    "#Feature engineering\n",
    "#Selection.filter like chi.square,ANDVA..\n",
    "#wrapper recursive features\n",
    "#Embedded.Lasso regression\n",
    "#Feature scaling and Normalization\n",
    "#Normalization Rescale to a range,(Age,20.28)\n",
    "#Standard deviation,transform std\n",
    "#Data splitting\n",
    "#Training and evaluation\n",
    "#Most common ratios,20 testing,80training,30,70\n",
    "#Import sckit-learn help to split train_test_split\n",
    "#Random state is used to shuffle data before splitting it into a a training and test set\n"
   ]
  },
  {
   "cell_type": "code",
   "execution_count": null,
   "metadata": {},
   "outputs": [],
   "source": [
    "#Cross validation-evaluate the performance of the data,multiple folds\n",
    "#Types are, train/test we can use k-fold cross validation\n",
    "#Stratified k-fold,Ensure our distribution of the target variable,particularly used in the imbalance datasets\n",
    "#Cross Validation helps in reducing variance in module performance estimates\n",
    "#Provides a comprehensive evaluation of model performance\n"
   ]
  },
  {
   "cell_type": "code",
   "execution_count": null,
   "metadata": {},
   "outputs": [],
   "source": [
    "#supervised learning algorithms\n",
    "#1.Regression linear,polynomial\n",
    "#2. Classification(logistic Regression,k-Nearest Neighbors(KNN), support vector machine(svm),Decision trees and Random Forest)\n",
    "\n",
    "# Model evaluation\n",
    "#Metrics:  Accuracy,precision,Recall,F1Score\n",
    "#Confusion matrix\n",
    "#AUC.and RDC, Area under the curve,Receiver operating characteristic curve\n",
    "\n",
    "\n"
   ]
  },
  {
   "cell_type": "code",
   "execution_count": null,
   "metadata": {},
   "outputs": [],
   "source": [
    "#Summary Supervised learning\n",
    "#Labeled data,Predict output for new inputs,common task,Classification and regression\n",
    "\n",
    "#Summary unsupervised learning\n",
    "#Unlabelled,find hidden patterns of structures in data,common task like clustering,dimensionality,association rule learning\n",
    "\n",
    "#Definition\n",
    "#Supervised learning :Learns from labelled data to predict outputs for new inputs\n",
    "#Unsupervised learning: Learns from unlabelled data to identify patterns and structures within data\n",
    "\n",
    "\n"
   ]
  }
 ],
 "metadata": {
  "kernelspec": {
   "display_name": "Python 3",
   "language": "python",
   "name": "python3"
  },
  "language_info": {
   "codemirror_mode": {
    "name": "ipython",
    "version": 3
   },
   "file_extension": ".py",
   "mimetype": "text/x-python",
   "name": "python",
   "nbconvert_exporter": "python",
   "pygments_lexer": "ipython3",
   "version": "3.12.4"
  }
 },
 "nbformat": 4,
 "nbformat_minor": 2
}
