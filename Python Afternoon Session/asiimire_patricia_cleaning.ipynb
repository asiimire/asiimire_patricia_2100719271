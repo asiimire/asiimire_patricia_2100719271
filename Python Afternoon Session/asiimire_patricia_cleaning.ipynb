{
 "cells": [
  {
   "cell_type": "code",
   "execution_count": 6,
   "metadata": {},
   "outputs": [],
   "source": [
    "import pandas as pd\n",
    "\n",
    "# Load datasets\n",
    "mine_df = pd.read_csv('Mine.csv')\n",
    "sales_df = pd.read_csv('Sales.csv')"
   ]
  },
  {
   "cell_type": "code",
   "execution_count": 7,
   "metadata": {},
   "outputs": [
    {
     "name": "stdout",
     "output_type": "stream",
     "text": [
      "Mine Dataset Info:\n",
      "<class 'pandas.core.frame.DataFrame'>\n",
      "RangeIndex: 31 entries, 0 to 30\n",
      "Data columns (total 5 columns):\n",
      " #   Column    Non-Null Count  Dtype  \n",
      "---  ------    --------------  -----  \n",
      " 0   Duration  31 non-null     int64  \n",
      " 1   Date      29 non-null     object \n",
      " 2   Pulse     30 non-null     float64\n",
      " 3   Maxpulse  29 non-null     float64\n",
      " 4   Calories  27 non-null     float64\n",
      "dtypes: float64(3), int64(1), object(1)\n",
      "memory usage: 1.3+ KB\n",
      "None\n",
      "\n",
      "Sales Dataset Info:\n",
      "<class 'pandas.core.frame.DataFrame'>\n",
      "RangeIndex: 8 entries, 0 to 7\n",
      "Data columns (total 7 columns):\n",
      " #   Column         Non-Null Count  Dtype  \n",
      "---  ------         --------------  -----  \n",
      " 0   Order ID       8 non-null      int64  \n",
      " 1   Customer Name  7 non-null      object \n",
      " 2   Order Date     8 non-null      object \n",
      " 3   Product        8 non-null      object \n",
      " 4   Quantity       7 non-null      float64\n",
      " 5   Unit Price     7 non-null      float64\n",
      " 6   Total Revenue  7 non-null      float64\n",
      "dtypes: float64(3), int64(1), object(3)\n",
      "memory usage: 580.0+ bytes\n",
      "None\n"
     ]
    }
   ],
   "source": [
    "# Display initial information about datasets\n",
    "print(\"Mine Dataset Info:\")\n",
    "print(mine_df.info())\n",
    "print(\"\\nSales Dataset Info:\")\n",
    "print(sales_df.info())"
   ]
  },
  {
   "cell_type": "code",
   "execution_count": 8,
   "metadata": {},
   "outputs": [],
   "source": [
    "# Data Cleaning Process for Mine.csv\n",
    "# 1. Drop rows with Missing Values\n",
    "mine_df.dropna(inplace=True)"
   ]
  },
  {
   "cell_type": "code",
   "execution_count": 10,
   "metadata": {},
   "outputs": [],
   "source": [
    "# 2. Standardize Date Formats\n",
    "mine_df['Date'] = pd.to_datetime(mine_df['Date'], errors='coerce')  # Coerce errors to NaT for invalid formats"
   ]
  },
  {
   "cell_type": "code",
   "execution_count": 11,
   "metadata": {},
   "outputs": [],
   "source": [
    "# 3. Remove Duplicate Rows\n",
    "mine_df.drop_duplicates(inplace=True)"
   ]
  },
  {
   "cell_type": "code",
   "execution_count": 12,
   "metadata": {},
   "outputs": [],
   "source": [
    "# 4. Handling Wrong Data\n",
    "# Example: Correcting 'Date' column entries that are not in the correct format\n",
    "# In this dataset, there are incorrect dates like '20231018' which should be '2023/10/18'\n",
    "mine_df['Date'] = pd.to_datetime(mine_df['Date'], errors='coerce', format='%Y/%m/%d')"
   ]
  },
  {
   "cell_type": "code",
   "execution_count": 13,
   "metadata": {},
   "outputs": [],
   "source": [
    "# 5. Drop Unnecessary Columns\n",
    "columns_to_drop = ['unnecessary_column1', 'unnecessary_column2']\n",
    "mine_df.drop(columns=columns_to_drop, inplace=True, errors='ignore')  # errors='ignore' to handle if column doesn't exist"
   ]
  },
  {
   "cell_type": "code",
   "execution_count": 15,
   "metadata": {},
   "outputs": [],
   "source": [
    "# Save cleaned dataset\n",
    "mine_df.to_csv('cleaned_mine.csv', index=False)"
   ]
  },
  {
   "cell_type": "code",
   "execution_count": 16,
   "metadata": {},
   "outputs": [
    {
     "name": "stdout",
     "output_type": "stream",
     "text": [
      "\n",
      "Cleaned Sales Dataset Info:\n",
      "<class 'pandas.core.frame.DataFrame'>\n",
      "RangeIndex: 8 entries, 0 to 7\n",
      "Data columns (total 7 columns):\n",
      " #   Column         Non-Null Count  Dtype  \n",
      "---  ------         --------------  -----  \n",
      " 0   Order ID       8 non-null      int64  \n",
      " 1   Customer Name  7 non-null      object \n",
      " 2   Order Date     8 non-null      object \n",
      " 3   Product        8 non-null      object \n",
      " 4   Quantity       7 non-null      float64\n",
      " 5   Unit Price     7 non-null      float64\n",
      " 6   Total Revenue  7 non-null      float64\n",
      "dtypes: float64(3), int64(1), object(3)\n",
      "memory usage: 580.0+ bytes\n",
      "None\n"
     ]
    }
   ],
   "source": [
    "print(\"\\nCleaned Sales Dataset Info:\")\n",
    "print(sales_df.info())"
   ]
  },
  {
   "cell_type": "code",
   "execution_count": 18,
   "metadata": {},
   "outputs": [],
   "source": [
    "# Data Cleaning Process for Mine.csv\n",
    "# Convert relevant columns to numeric\n",
    "numeric_columns = ['Quantity', 'Unit Price', 'Total Revenue']\n",
    "sales_df[numeric_columns] = sales_df[numeric_columns].apply(pd.to_numeric, errors='coerce')"
   ]
  },
  {
   "cell_type": "code",
   "execution_count": 19,
   "metadata": {},
   "outputs": [],
   "source": [
    "# Drop rows with any NaN values\n",
    "sales_df.dropna(inplace=True)"
   ]
  },
  {
   "cell_type": "code",
   "execution_count": 20,
   "metadata": {},
   "outputs": [],
   "source": [
    "# Standardize Date Formats if needed\n",
    "# Example: Convert 'Order Date' to datetime format\n",
    "sales_df['Order Date'] = pd.to_datetime(sales_df['Order Date'], errors='coerce', format='%d/%m/%Y')"
   ]
  },
  {
   "cell_type": "code",
   "execution_count": 21,
   "metadata": {},
   "outputs": [],
   "source": [
    "# Remove Duplicate Rows\n",
    "sales_df.drop_duplicates(inplace=True)"
   ]
  },
  {
   "cell_type": "code",
   "execution_count": 22,
   "metadata": {},
   "outputs": [],
   "source": [
    "# Correcting Wrong Data if needed\n",
    "# Example: Ensure Quantity values are non-negative\n",
    "sales_df['Quantity'] = sales_df['Quantity'].apply(lambda x: abs(x) if x < 0 else x)"
   ]
  },
  {
   "cell_type": "code",
   "execution_count": 23,
   "metadata": {},
   "outputs": [],
   "source": [
    "# Save cleaned dataset\n",
    "sales_df.to_csv('cleaned_sales.csv', index=False)"
   ]
  },
  {
   "cell_type": "code",
   "execution_count": 24,
   "metadata": {},
   "outputs": [
    {
     "name": "stdout",
     "output_type": "stream",
     "text": [
      "\n",
      "Cleaned Sales Dataset Info:\n",
      "<class 'pandas.core.frame.DataFrame'>\n",
      "Index: 5 entries, 0 to 7\n",
      "Data columns (total 7 columns):\n",
      " #   Column         Non-Null Count  Dtype         \n",
      "---  ------         --------------  -----         \n",
      " 0   Order ID       5 non-null      int64         \n",
      " 1   Customer Name  5 non-null      object        \n",
      " 2   Order Date     4 non-null      datetime64[ns]\n",
      " 3   Product        5 non-null      object        \n",
      " 4   Quantity       5 non-null      float64       \n",
      " 5   Unit Price     5 non-null      float64       \n",
      " 6   Total Revenue  5 non-null      float64       \n",
      "dtypes: datetime64[ns](1), float64(3), int64(1), object(2)\n",
      "memory usage: 320.0+ bytes\n",
      "None\n"
     ]
    }
   ],
   "source": [
    "# Display cleaned dataset info\n",
    "print(\"\\nCleaned Sales Dataset Info:\")\n",
    "print(sales_df.info())"
   ]
  },
  {
   "cell_type": "code",
   "execution_count": null,
   "metadata": {},
   "outputs": [],
   "source": []
  }
 ],
 "metadata": {
  "kernelspec": {
   "display_name": "Python 3",
   "language": "python",
   "name": "python3"
  },
  "language_info": {
   "codemirror_mode": {
    "name": "ipython",
    "version": 3
   },
   "file_extension": ".py",
   "mimetype": "text/x-python",
   "name": "python",
   "nbconvert_exporter": "python",
   "pygments_lexer": "ipython3",
   "version": "3.11.9"
  }
 },
 "nbformat": 4,
 "nbformat_minor": 2
}
