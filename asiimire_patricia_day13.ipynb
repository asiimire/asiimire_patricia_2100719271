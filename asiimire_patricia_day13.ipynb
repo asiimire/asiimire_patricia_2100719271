{
  "nbformat": 4,
  "nbformat_minor": 0,
  "metadata": {
    "colab": {
      "provenance": [],
      "mount_file_id": "14__PrTUEVfAnAa8FMDmGsATvufkzPGOW",
      "authorship_tag": "ABX9TyP/w8pWBJqarhkVLSM4Nkmx",
      "include_colab_link": true
    },
    "kernelspec": {
      "name": "python3",
      "display_name": "Python 3"
    },
    "language_info": {
      "name": "python"
    }
  },
  "cells": [
    {
      "cell_type": "markdown",
      "metadata": {
        "id": "view-in-github",
        "colab_type": "text"
      },
      "source": [
        "<a href=\"https://colab.research.google.com/github/asiimire/asiimire_patricia_2100719271/blob/main/asiimire_patricia_day13.ipynb\" target=\"_parent\"><img src=\"https://colab.research.google.com/assets/colab-badge.svg\" alt=\"Open In Colab\"/></a>"
      ]
    },
    {
      "cell_type": "code",
      "execution_count": null,
      "metadata": {
        "id": "YTXkwtQfqmml"
      },
      "outputs": [],
      "source": []
    }
  ]
}